{
  "nbformat": 4,
  "nbformat_minor": 0,
  "metadata": {
    "anaconda-cloud": {},
    "kernelspec": {
      "display_name": "Python 3",
      "language": "python",
      "name": "python3"
    },
    "language_info": {
      "codemirror_mode": {
        "name": "ipython",
        "version": 3
      },
      "file_extension": ".py",
      "mimetype": "text/x-python",
      "name": "python",
      "nbconvert_exporter": "python",
      "pygments_lexer": "ipython3",
      "version": "3.6.5"
    },
    "colab": {
      "name": "Food_projection.ipynb",
      "provenance": [],
      "collapsed_sections": []
    }
  },
  "cells": [
    {
      "cell_type": "markdown",
      "metadata": {
        "id": "ih5oh4NLBdnF",
        "colab_type": "text"
      },
      "source": [
        "# Predict success of students\n"
      ]
    },
    {
      "cell_type": "code",
      "metadata": {
        "id": "TtRUcC_LCUol",
        "colab_type": "code",
        "outputId": "31e925bb-018f-478e-d21f-c1b7759e3292",
        "colab": {
          "base_uri": "https://localhost:8080/",
          "height": 154
        }
      },
      "source": [
        "import os\n",
        "from google.colab import drive\n",
        "drive.mount('/content/drive', force_remount=False)\n",
        "\n",
        "os.chdir(\"/content/drive/My Drive/machine learning/1404\")\n",
        "!ls"
      ],
      "execution_count": 0,
      "outputs": [
        {
          "output_type": "stream",
          "text": [
            "Go to this URL in a browser: https://accounts.google.com/o/oauth2/auth?client_id=947318989803-6bn6qk8qdgf4n4g3pfee6491hc0brc4i.apps.googleusercontent.com&redirect_uri=urn%3aietf%3awg%3aoauth%3a2.0%3aoob&response_type=code&scope=email%20https%3a%2f%2fwww.googleapis.com%2fauth%2fdocs.test%20https%3a%2f%2fwww.googleapis.com%2fauth%2fdrive%20https%3a%2f%2fwww.googleapis.com%2fauth%2fdrive.photos.readonly%20https%3a%2f%2fwww.googleapis.com%2fauth%2fpeopleapi.readonly\n",
            "\n",
            "Enter your authorization code:\n",
            "··········\n",
            "Mounted at /content/drive\n",
            "'Copie de Food_projection.ipynb'\t\t\t  Food_projection.ipynb\n",
            "'food_coded - food_coded - food_coded - food_coded.csv'\n"
          ],
          "name": "stdout"
        }
      ]
    },
    {
      "cell_type": "code",
      "metadata": {
        "id": "LLjE4ievBdnI",
        "colab_type": "code",
        "colab": {}
      },
      "source": [
        "# imports\n",
        "import warnings\n",
        "warnings.filterwarnings('ignore')\n",
        "import pandas as pd\n",
        "bdd = pd.read_csv('food_coded - food_coded - food_coded - food_coded.csv')\n",
        "import numpy as np\n",
        "# your code here\n"
      ],
      "execution_count": 0,
      "outputs": []
    },
    {
      "cell_type": "code",
      "metadata": {
        "id": "m8L4-F43BdnM",
        "colab_type": "code",
        "outputId": "6d62ee2e-6d32-4d93-bfd6-8cd225a64287",
        "colab": {
          "base_uri": "https://localhost:8080/",
          "height": 484
        }
      },
      "source": [
        "bdd.head()"
      ],
      "execution_count": 0,
      "outputs": [
        {
          "output_type": "execute_result",
          "data": {
            "text/html": [
              "<div>\n",
              "<style scoped>\n",
              "    .dataframe tbody tr th:only-of-type {\n",
              "        vertical-align: middle;\n",
              "    }\n",
              "\n",
              "    .dataframe tbody tr th {\n",
              "        vertical-align: top;\n",
              "    }\n",
              "\n",
              "    .dataframe thead th {\n",
              "        text-align: right;\n",
              "    }\n",
              "</style>\n",
              "<table border=\"1\" class=\"dataframe\">\n",
              "  <thead>\n",
              "    <tr style=\"text-align: right;\">\n",
              "      <th></th>\n",
              "      <th>GPA</th>\n",
              "      <th>Gender</th>\n",
              "      <th>breakfast</th>\n",
              "      <th>calories_chicken</th>\n",
              "      <th>calories_day</th>\n",
              "      <th>calories_scone</th>\n",
              "      <th>coffee</th>\n",
              "      <th>comfort_food</th>\n",
              "      <th>comfort_food_reasons</th>\n",
              "      <th>comfort_food_reasons_coded</th>\n",
              "      <th>cook</th>\n",
              "      <th>comfort_food_reasons_coded.1</th>\n",
              "      <th>cuisine</th>\n",
              "      <th>diet_current</th>\n",
              "      <th>diet_current_coded</th>\n",
              "      <th>drink</th>\n",
              "      <th>eating_changes</th>\n",
              "      <th>eating_changes_coded</th>\n",
              "      <th>eating_changes_coded1</th>\n",
              "      <th>eating_out</th>\n",
              "      <th>employment</th>\n",
              "      <th>ethnic_food</th>\n",
              "      <th>exercise</th>\n",
              "      <th>father_education</th>\n",
              "      <th>father_profession</th>\n",
              "      <th>fav_cuisine</th>\n",
              "      <th>fav_cuisine_coded</th>\n",
              "      <th>fav_food</th>\n",
              "      <th>food_childhood</th>\n",
              "      <th>fries</th>\n",
              "      <th>fruit_day</th>\n",
              "      <th>grade_level</th>\n",
              "      <th>greek_food</th>\n",
              "      <th>healthy_feeling</th>\n",
              "      <th>healthy_meal</th>\n",
              "      <th>ideal_diet</th>\n",
              "      <th>ideal_diet_coded</th>\n",
              "      <th>income</th>\n",
              "      <th>indian_food</th>\n",
              "      <th>italian_food</th>\n",
              "      <th>life_rewarding</th>\n",
              "      <th>marital_status</th>\n",
              "      <th>meals_dinner_friend</th>\n",
              "      <th>mother_education</th>\n",
              "      <th>mother_profession</th>\n",
              "      <th>nutritional_check</th>\n",
              "      <th>on_off_campus</th>\n",
              "      <th>parents_cook</th>\n",
              "      <th>pay_meal_out</th>\n",
              "      <th>persian_food</th>\n",
              "      <th>self_perception_weight</th>\n",
              "      <th>soup</th>\n",
              "      <th>sports</th>\n",
              "      <th>thai_food</th>\n",
              "      <th>tortilla_calories</th>\n",
              "      <th>turkey_calories</th>\n",
              "      <th>type_sports</th>\n",
              "      <th>veggies_day</th>\n",
              "      <th>vitamins</th>\n",
              "      <th>waffle_calories</th>\n",
              "      <th>weight</th>\n",
              "    </tr>\n",
              "  </thead>\n",
              "  <tbody>\n",
              "    <tr>\n",
              "      <th>0</th>\n",
              "      <td>2.400</td>\n",
              "      <td>2</td>\n",
              "      <td>1</td>\n",
              "      <td>430</td>\n",
              "      <td>NaN</td>\n",
              "      <td>315.0</td>\n",
              "      <td>1</td>\n",
              "      <td>none</td>\n",
              "      <td>we dont have comfort</td>\n",
              "      <td>9.0</td>\n",
              "      <td>2.0</td>\n",
              "      <td>9</td>\n",
              "      <td>NaN</td>\n",
              "      <td>eat good and exercise</td>\n",
              "      <td>1</td>\n",
              "      <td>1.0</td>\n",
              "      <td>eat faster</td>\n",
              "      <td>1</td>\n",
              "      <td>1</td>\n",
              "      <td>3</td>\n",
              "      <td>3.0</td>\n",
              "      <td>1</td>\n",
              "      <td>1.0</td>\n",
              "      <td>5.0</td>\n",
              "      <td>profesor</td>\n",
              "      <td>Arabic cuisine</td>\n",
              "      <td>3</td>\n",
              "      <td>1.0</td>\n",
              "      <td>rice  and chicken</td>\n",
              "      <td>2</td>\n",
              "      <td>5</td>\n",
              "      <td>2</td>\n",
              "      <td>5</td>\n",
              "      <td>2</td>\n",
              "      <td>looks not oily</td>\n",
              "      <td>being healthy</td>\n",
              "      <td>8</td>\n",
              "      <td>5</td>\n",
              "      <td>5</td>\n",
              "      <td>5</td>\n",
              "      <td>1</td>\n",
              "      <td>1.0</td>\n",
              "      <td>rice, chicken,  soup</td>\n",
              "      <td>1.0</td>\n",
              "      <td>unemployed</td>\n",
              "      <td>5</td>\n",
              "      <td>1.0</td>\n",
              "      <td>1</td>\n",
              "      <td>2</td>\n",
              "      <td>5.0</td>\n",
              "      <td>3.0</td>\n",
              "      <td>1.0</td>\n",
              "      <td>1.0</td>\n",
              "      <td>1</td>\n",
              "      <td>1165.0</td>\n",
              "      <td>345</td>\n",
              "      <td>car racing</td>\n",
              "      <td>5</td>\n",
              "      <td>1</td>\n",
              "      <td>1315</td>\n",
              "      <td>187</td>\n",
              "    </tr>\n",
              "    <tr>\n",
              "      <th>1</th>\n",
              "      <td>3.654</td>\n",
              "      <td>1</td>\n",
              "      <td>1</td>\n",
              "      <td>610</td>\n",
              "      <td>3.0</td>\n",
              "      <td>420.0</td>\n",
              "      <td>2</td>\n",
              "      <td>chocolate, chips, ice cream</td>\n",
              "      <td>Stress, bored, anger</td>\n",
              "      <td>1.0</td>\n",
              "      <td>3.0</td>\n",
              "      <td>1</td>\n",
              "      <td>1.0</td>\n",
              "      <td>I eat about three times a day with some snacks...</td>\n",
              "      <td>2</td>\n",
              "      <td>2.0</td>\n",
              "      <td>I eat out more than usual.</td>\n",
              "      <td>1</td>\n",
              "      <td>2</td>\n",
              "      <td>2</td>\n",
              "      <td>2.0</td>\n",
              "      <td>4</td>\n",
              "      <td>1.0</td>\n",
              "      <td>2.0</td>\n",
              "      <td>Self employed</td>\n",
              "      <td>Italian</td>\n",
              "      <td>1</td>\n",
              "      <td>1.0</td>\n",
              "      <td>chicken and biscuits, beef soup, baked beans</td>\n",
              "      <td>1</td>\n",
              "      <td>4</td>\n",
              "      <td>4</td>\n",
              "      <td>4</td>\n",
              "      <td>5</td>\n",
              "      <td>Grains, Veggies, (more of grains and veggies),...</td>\n",
              "      <td>Try to eat 5-6 small meals a day. While trying...</td>\n",
              "      <td>3</td>\n",
              "      <td>4</td>\n",
              "      <td>4</td>\n",
              "      <td>4</td>\n",
              "      <td>1</td>\n",
              "      <td>2.0</td>\n",
              "      <td>Pasta, steak, chicken</td>\n",
              "      <td>4.0</td>\n",
              "      <td>Nurse RN</td>\n",
              "      <td>4</td>\n",
              "      <td>1.0</td>\n",
              "      <td>1</td>\n",
              "      <td>4</td>\n",
              "      <td>4.0</td>\n",
              "      <td>3.0</td>\n",
              "      <td>1.0</td>\n",
              "      <td>1.0</td>\n",
              "      <td>2</td>\n",
              "      <td>725.0</td>\n",
              "      <td>690</td>\n",
              "      <td>Basketball</td>\n",
              "      <td>4</td>\n",
              "      <td>2</td>\n",
              "      <td>900</td>\n",
              "      <td>155</td>\n",
              "    </tr>\n",
              "    <tr>\n",
              "      <th>2</th>\n",
              "      <td>3.300</td>\n",
              "      <td>1</td>\n",
              "      <td>1</td>\n",
              "      <td>720</td>\n",
              "      <td>4.0</td>\n",
              "      <td>420.0</td>\n",
              "      <td>2</td>\n",
              "      <td>frozen yogurt, pizza, fast food</td>\n",
              "      <td>stress, sadness</td>\n",
              "      <td>1.0</td>\n",
              "      <td>1.0</td>\n",
              "      <td>1</td>\n",
              "      <td>3.0</td>\n",
              "      <td>toast and fruit for breakfast, salad for lunch...</td>\n",
              "      <td>3</td>\n",
              "      <td>1.0</td>\n",
              "      <td>sometimes choosing to eat fast food instead of...</td>\n",
              "      <td>1</td>\n",
              "      <td>3</td>\n",
              "      <td>2</td>\n",
              "      <td>3.0</td>\n",
              "      <td>5</td>\n",
              "      <td>2.0</td>\n",
              "      <td>2.0</td>\n",
              "      <td>owns business</td>\n",
              "      <td>italian</td>\n",
              "      <td>1</td>\n",
              "      <td>3.0</td>\n",
              "      <td>mac and cheese, pizza, tacos</td>\n",
              "      <td>1</td>\n",
              "      <td>5</td>\n",
              "      <td>3</td>\n",
              "      <td>5</td>\n",
              "      <td>6</td>\n",
              "      <td>usually includes natural ingredients; nonproce...</td>\n",
              "      <td>i would say my ideal diet is my current diet</td>\n",
              "      <td>6</td>\n",
              "      <td>6</td>\n",
              "      <td>5</td>\n",
              "      <td>5</td>\n",
              "      <td>7</td>\n",
              "      <td>2.0</td>\n",
              "      <td>chicken and rice with veggies, pasta, some kin...</td>\n",
              "      <td>2.0</td>\n",
              "      <td>owns business</td>\n",
              "      <td>4</td>\n",
              "      <td>2.0</td>\n",
              "      <td>1</td>\n",
              "      <td>3</td>\n",
              "      <td>5.0</td>\n",
              "      <td>6.0</td>\n",
              "      <td>1.0</td>\n",
              "      <td>2.0</td>\n",
              "      <td>5</td>\n",
              "      <td>1165.0</td>\n",
              "      <td>500</td>\n",
              "      <td>none</td>\n",
              "      <td>5</td>\n",
              "      <td>1</td>\n",
              "      <td>900</td>\n",
              "      <td>I'm not answering this.</td>\n",
              "    </tr>\n",
              "    <tr>\n",
              "      <th>3</th>\n",
              "      <td>3.200</td>\n",
              "      <td>1</td>\n",
              "      <td>1</td>\n",
              "      <td>430</td>\n",
              "      <td>3.0</td>\n",
              "      <td>420.0</td>\n",
              "      <td>2</td>\n",
              "      <td>Pizza, Mac and cheese, ice cream</td>\n",
              "      <td>Boredom</td>\n",
              "      <td>2.0</td>\n",
              "      <td>2.0</td>\n",
              "      <td>2</td>\n",
              "      <td>2.0</td>\n",
              "      <td>College diet, cheap and easy foods most nights...</td>\n",
              "      <td>2</td>\n",
              "      <td>2.0</td>\n",
              "      <td>Accepting cheap and premade/store bought foods</td>\n",
              "      <td>1</td>\n",
              "      <td>3</td>\n",
              "      <td>2</td>\n",
              "      <td>3.0</td>\n",
              "      <td>5</td>\n",
              "      <td>3.0</td>\n",
              "      <td>2.0</td>\n",
              "      <td>Mechanic</td>\n",
              "      <td>Turkish</td>\n",
              "      <td>3</td>\n",
              "      <td>1.0</td>\n",
              "      <td>Beef stroganoff, tacos, pizza</td>\n",
              "      <td>2</td>\n",
              "      <td>4</td>\n",
              "      <td>4</td>\n",
              "      <td>5</td>\n",
              "      <td>7</td>\n",
              "      <td>Fresh fruits&amp; vegetables, organic meats</td>\n",
              "      <td>Healthy, fresh veggies/fruits &amp; organic foods</td>\n",
              "      <td>2</td>\n",
              "      <td>6</td>\n",
              "      <td>5</td>\n",
              "      <td>5</td>\n",
              "      <td>2</td>\n",
              "      <td>2.0</td>\n",
              "      <td>Grilled chicken \\nStuffed Shells\\nHomemade Chili</td>\n",
              "      <td>4.0</td>\n",
              "      <td>Special Education Teacher</td>\n",
              "      <td>2</td>\n",
              "      <td>1.0</td>\n",
              "      <td>1</td>\n",
              "      <td>2</td>\n",
              "      <td>5.0</td>\n",
              "      <td>5.0</td>\n",
              "      <td>1.0</td>\n",
              "      <td>2.0</td>\n",
              "      <td>5</td>\n",
              "      <td>725.0</td>\n",
              "      <td>690</td>\n",
              "      <td>NaN</td>\n",
              "      <td>3</td>\n",
              "      <td>1</td>\n",
              "      <td>1315</td>\n",
              "      <td>Not sure, 240</td>\n",
              "    </tr>\n",
              "    <tr>\n",
              "      <th>4</th>\n",
              "      <td>3.500</td>\n",
              "      <td>1</td>\n",
              "      <td>1</td>\n",
              "      <td>720</td>\n",
              "      <td>2.0</td>\n",
              "      <td>420.0</td>\n",
              "      <td>2</td>\n",
              "      <td>Ice cream, chocolate, chips</td>\n",
              "      <td>Stress, boredom, cravings</td>\n",
              "      <td>1.0</td>\n",
              "      <td>1.0</td>\n",
              "      <td>1</td>\n",
              "      <td>2.0</td>\n",
              "      <td>I try to eat healthy but often struggle becaus...</td>\n",
              "      <td>2</td>\n",
              "      <td>2.0</td>\n",
              "      <td>I have eaten generally the same foods but I do...</td>\n",
              "      <td>3</td>\n",
              "      <td>4</td>\n",
              "      <td>2</td>\n",
              "      <td>2.0</td>\n",
              "      <td>4</td>\n",
              "      <td>1.0</td>\n",
              "      <td>4.0</td>\n",
              "      <td>IT</td>\n",
              "      <td>Italian</td>\n",
              "      <td>1</td>\n",
              "      <td>3.0</td>\n",
              "      <td>Pasta, chicken tender, pizza</td>\n",
              "      <td>1</td>\n",
              "      <td>4</td>\n",
              "      <td>4</td>\n",
              "      <td>4</td>\n",
              "      <td>6</td>\n",
              "      <td>A lean protein such as grilled chicken, green ...</td>\n",
              "      <td>Ideally I would like to be able to eat healthi...</td>\n",
              "      <td>2</td>\n",
              "      <td>6</td>\n",
              "      <td>2</td>\n",
              "      <td>5</td>\n",
              "      <td>1</td>\n",
              "      <td>1.0</td>\n",
              "      <td>Chicken Parmesan, Pulled Pork, Spaghetti and m...</td>\n",
              "      <td>5.0</td>\n",
              "      <td>Substance Abuse Conselor</td>\n",
              "      <td>3</td>\n",
              "      <td>1.0</td>\n",
              "      <td>1</td>\n",
              "      <td>4</td>\n",
              "      <td>2.0</td>\n",
              "      <td>4.0</td>\n",
              "      <td>1.0</td>\n",
              "      <td>1.0</td>\n",
              "      <td>4</td>\n",
              "      <td>940.0</td>\n",
              "      <td>500</td>\n",
              "      <td>Softball</td>\n",
              "      <td>4</td>\n",
              "      <td>2</td>\n",
              "      <td>760</td>\n",
              "      <td>190</td>\n",
              "    </tr>\n",
              "  </tbody>\n",
              "</table>\n",
              "</div>"
            ],
            "text/plain": [
              "     GPA  Gender  breakfast  ...  vitamins  waffle_calories                   weight\n",
              "0  2.400       2          1  ...         1             1315                      187\n",
              "1  3.654       1          1  ...         2              900                      155\n",
              "2  3.300       1          1  ...         1              900  I'm not answering this.\n",
              "3  3.200       1          1  ...         1             1315            Not sure, 240\n",
              "4  3.500       1          1  ...         2              760                      190\n",
              "\n",
              "[5 rows x 61 columns]"
            ]
          },
          "metadata": {
            "tags": []
          },
          "execution_count": 22
        }
      ]
    },
    {
      "cell_type": "code",
      "metadata": {
        "id": "D9LY1kpiBdnQ",
        "colab_type": "code",
        "outputId": "be2e2416-e6d5-48ac-87f6-2745e074e422",
        "colab": {
          "base_uri": "https://localhost:8080/",
          "height": 252
        }
      },
      "source": [
        "bdd.info\n"
      ],
      "execution_count": 0,
      "outputs": [
        {
          "output_type": "execute_result",
          "data": {
            "text/plain": [
              "<bound method DataFrame.info of        GPA  Gender  ...  waffle_calories                   weight\n",
              "0    2.400       2  ...             1315                      187\n",
              "1    3.654       1  ...              900                      155\n",
              "2    3.300       1  ...              900  I'm not answering this.\n",
              "3    3.200       1  ...             1315            Not sure, 240\n",
              "4    3.500       1  ...              760                      190\n",
              "..     ...     ...  ...              ...                      ...\n",
              "116  3.500       1  ...             1315                      156\n",
              "117  3.000       1  ...             1315                      180\n",
              "118  3.882       1  ...             1315                      120\n",
              "119  3.000       2  ...             1315                      135\n",
              "120  3.900       1  ...              575                      135\n",
              "\n",
              "[121 rows x 61 columns]>"
            ]
          },
          "metadata": {
            "tags": []
          },
          "execution_count": 23
        }
      ]
    },
    {
      "cell_type": "markdown",
      "metadata": {
        "id": "Q5urW8j0BdnU",
        "colab_type": "text"
      },
      "source": [
        "Looks like there are some Nan values, let's see how many for each column"
      ]
    },
    {
      "cell_type": "code",
      "metadata": {
        "id": "d7D63h0sBdnV",
        "colab_type": "code",
        "outputId": "2802dd81-53da-4c7d-a1a1-3fd23ad6d294",
        "colab": {
          "base_uri": "https://localhost:8080/",
          "height": 218
        }
      },
      "source": [
        "bdd.isnull().sum()"
      ],
      "execution_count": 0,
      "outputs": [
        {
          "output_type": "execute_result",
          "data": {
            "text/plain": [
              "GPA                  0\n",
              "Gender               0\n",
              "breakfast            0\n",
              "calories_chicken     0\n",
              "calories_day        18\n",
              "                    ..\n",
              "type_sports         19\n",
              "veggies_day          0\n",
              "vitamins             0\n",
              "waffle_calories      0\n",
              "weight               2\n",
              "Length: 61, dtype: int64"
            ]
          },
          "metadata": {
            "tags": []
          },
          "execution_count": 24
        }
      ]
    },
    {
      "cell_type": "markdown",
      "metadata": {
        "id": "o5glopz_BdnZ",
        "colab_type": "text"
      },
      "source": [
        "**Cabin** contains a lot of Nan values, we'll drop this column <br>\n",
        "We'll replace the Nan values in **Age** with the age's median, and the ones in **Embarked** with **'S'**, which is the most frequent one in this column"
      ]
    },
    {
      "cell_type": "code",
      "metadata": {
        "id": "V6jw793MBdna",
        "colab_type": "code",
        "outputId": "82b9264f-f432-4ff1-e1aa-5ffca07d0db0",
        "colab": {
          "base_uri": "https://localhost:8080/",
          "height": 106
        }
      },
      "source": [
        "\n",
        "to_drop =['comfort_food','pay_meal_out','weight','sports','cook','comfort_food_reasons_coded.1',\t'cuisine',\t'drink','grade_level','vitamins','diet_current_coded', 'employment', 'ethnic_food','fav_cuisine_coded', 'food_childhood','healthy_meal','ideal_diet', 'ideal_diet_coded', 'income', 'marital_status', 'on_off_campus', 'tortilla_calories','persian_food', 'waffle_calories', 'thai_food', 'self_perception_weight', 'self_perception_weight', 'turkey_calories', 'type_sports', 'meals_dinner_friend', 'italian_food', 'indian_food', 'life_rewarding','father_education', 'father_profession', 'fav_food', 'greek_food', 'greek_food', 'mother_education', 'healthy_feeling', 'mother_profession', 'nutritional_check', 'parents_cook','calories_chicken', 'calories_day','calories_scone','comfort_food_reasons','comfort_food_reasons_coded','diet_current', 'eating_changes', 'eating_changes_coded', 'eating_changes_coded1', 'fav_cuisine']\n",
        "bdd.drop(to_drop, axis = 1, inplace = True)\n",
        "bdd.head(2)\n"
      ],
      "execution_count": 0,
      "outputs": [
        {
          "output_type": "execute_result",
          "data": {
            "text/html": [
              "<div>\n",
              "<style scoped>\n",
              "    .dataframe tbody tr th:only-of-type {\n",
              "        vertical-align: middle;\n",
              "    }\n",
              "\n",
              "    .dataframe tbody tr th {\n",
              "        vertical-align: top;\n",
              "    }\n",
              "\n",
              "    .dataframe thead th {\n",
              "        text-align: right;\n",
              "    }\n",
              "</style>\n",
              "<table border=\"1\" class=\"dataframe\">\n",
              "  <thead>\n",
              "    <tr style=\"text-align: right;\">\n",
              "      <th></th>\n",
              "      <th>GPA</th>\n",
              "      <th>Gender</th>\n",
              "      <th>breakfast</th>\n",
              "      <th>coffee</th>\n",
              "      <th>eating_out</th>\n",
              "      <th>exercise</th>\n",
              "      <th>fries</th>\n",
              "      <th>fruit_day</th>\n",
              "      <th>soup</th>\n",
              "      <th>veggies_day</th>\n",
              "    </tr>\n",
              "  </thead>\n",
              "  <tbody>\n",
              "    <tr>\n",
              "      <th>0</th>\n",
              "      <td>2.400</td>\n",
              "      <td>2</td>\n",
              "      <td>1</td>\n",
              "      <td>1</td>\n",
              "      <td>3</td>\n",
              "      <td>1.0</td>\n",
              "      <td>2</td>\n",
              "      <td>5</td>\n",
              "      <td>1.0</td>\n",
              "      <td>5</td>\n",
              "    </tr>\n",
              "    <tr>\n",
              "      <th>1</th>\n",
              "      <td>3.654</td>\n",
              "      <td>1</td>\n",
              "      <td>1</td>\n",
              "      <td>2</td>\n",
              "      <td>2</td>\n",
              "      <td>1.0</td>\n",
              "      <td>1</td>\n",
              "      <td>4</td>\n",
              "      <td>1.0</td>\n",
              "      <td>4</td>\n",
              "    </tr>\n",
              "  </tbody>\n",
              "</table>\n",
              "</div>"
            ],
            "text/plain": [
              "     GPA  Gender  breakfast  coffee  ...  fries  fruit_day  soup  veggies_day\n",
              "0  2.400       2          1       1  ...      2          5   1.0            5\n",
              "1  3.654       1          1       2  ...      1          4   1.0            4\n",
              "\n",
              "[2 rows x 10 columns]"
            ]
          },
          "metadata": {
            "tags": []
          },
          "execution_count": 112
        }
      ]
    },
    {
      "cell_type": "code",
      "metadata": {
        "id": "ocHFlxPQr0ps",
        "colab_type": "code",
        "outputId": "973c0557-9bd7-4a4e-c1a3-0ddf494ab1ff",
        "colab": {
          "base_uri": "https://localhost:8080/",
          "height": 402
        }
      },
      "source": [
        "bdd.dropna()"
      ],
      "execution_count": 0,
      "outputs": [
        {
          "output_type": "execute_result",
          "data": {
            "text/html": [
              "<div>\n",
              "<style scoped>\n",
              "    .dataframe tbody tr th:only-of-type {\n",
              "        vertical-align: middle;\n",
              "    }\n",
              "\n",
              "    .dataframe tbody tr th {\n",
              "        vertical-align: top;\n",
              "    }\n",
              "\n",
              "    .dataframe thead th {\n",
              "        text-align: right;\n",
              "    }\n",
              "</style>\n",
              "<table border=\"1\" class=\"dataframe\">\n",
              "  <thead>\n",
              "    <tr style=\"text-align: right;\">\n",
              "      <th></th>\n",
              "      <th>GPA</th>\n",
              "      <th>Gender</th>\n",
              "      <th>breakfast</th>\n",
              "      <th>coffee</th>\n",
              "      <th>eating_out</th>\n",
              "      <th>exercise</th>\n",
              "      <th>fries</th>\n",
              "      <th>fruit_day</th>\n",
              "      <th>soup</th>\n",
              "      <th>veggies_day</th>\n",
              "    </tr>\n",
              "  </thead>\n",
              "  <tbody>\n",
              "    <tr>\n",
              "      <th>0</th>\n",
              "      <td>2.400</td>\n",
              "      <td>2</td>\n",
              "      <td>1</td>\n",
              "      <td>1</td>\n",
              "      <td>3</td>\n",
              "      <td>1.0</td>\n",
              "      <td>2</td>\n",
              "      <td>5</td>\n",
              "      <td>1.0</td>\n",
              "      <td>5</td>\n",
              "    </tr>\n",
              "    <tr>\n",
              "      <th>1</th>\n",
              "      <td>3.654</td>\n",
              "      <td>1</td>\n",
              "      <td>1</td>\n",
              "      <td>2</td>\n",
              "      <td>2</td>\n",
              "      <td>1.0</td>\n",
              "      <td>1</td>\n",
              "      <td>4</td>\n",
              "      <td>1.0</td>\n",
              "      <td>4</td>\n",
              "    </tr>\n",
              "    <tr>\n",
              "      <th>2</th>\n",
              "      <td>3.300</td>\n",
              "      <td>1</td>\n",
              "      <td>1</td>\n",
              "      <td>2</td>\n",
              "      <td>2</td>\n",
              "      <td>2.0</td>\n",
              "      <td>1</td>\n",
              "      <td>5</td>\n",
              "      <td>1.0</td>\n",
              "      <td>5</td>\n",
              "    </tr>\n",
              "    <tr>\n",
              "      <th>3</th>\n",
              "      <td>3.200</td>\n",
              "      <td>1</td>\n",
              "      <td>1</td>\n",
              "      <td>2</td>\n",
              "      <td>2</td>\n",
              "      <td>3.0</td>\n",
              "      <td>2</td>\n",
              "      <td>4</td>\n",
              "      <td>1.0</td>\n",
              "      <td>3</td>\n",
              "    </tr>\n",
              "    <tr>\n",
              "      <th>4</th>\n",
              "      <td>3.500</td>\n",
              "      <td>1</td>\n",
              "      <td>1</td>\n",
              "      <td>2</td>\n",
              "      <td>2</td>\n",
              "      <td>1.0</td>\n",
              "      <td>1</td>\n",
              "      <td>4</td>\n",
              "      <td>1.0</td>\n",
              "      <td>4</td>\n",
              "    </tr>\n",
              "    <tr>\n",
              "      <th>...</th>\n",
              "      <td>...</td>\n",
              "      <td>...</td>\n",
              "      <td>...</td>\n",
              "      <td>...</td>\n",
              "      <td>...</td>\n",
              "      <td>...</td>\n",
              "      <td>...</td>\n",
              "      <td>...</td>\n",
              "      <td>...</td>\n",
              "      <td>...</td>\n",
              "    </tr>\n",
              "    <tr>\n",
              "      <th>116</th>\n",
              "      <td>3.500</td>\n",
              "      <td>1</td>\n",
              "      <td>1</td>\n",
              "      <td>2</td>\n",
              "      <td>2</td>\n",
              "      <td>2.0</td>\n",
              "      <td>1</td>\n",
              "      <td>5</td>\n",
              "      <td>1.0</td>\n",
              "      <td>5</td>\n",
              "    </tr>\n",
              "    <tr>\n",
              "      <th>117</th>\n",
              "      <td>3.000</td>\n",
              "      <td>1</td>\n",
              "      <td>1</td>\n",
              "      <td>2</td>\n",
              "      <td>4</td>\n",
              "      <td>2.0</td>\n",
              "      <td>1</td>\n",
              "      <td>4</td>\n",
              "      <td>1.0</td>\n",
              "      <td>5</td>\n",
              "    </tr>\n",
              "    <tr>\n",
              "      <th>118</th>\n",
              "      <td>3.882</td>\n",
              "      <td>1</td>\n",
              "      <td>1</td>\n",
              "      <td>1</td>\n",
              "      <td>3</td>\n",
              "      <td>2.0</td>\n",
              "      <td>1</td>\n",
              "      <td>4</td>\n",
              "      <td>1.0</td>\n",
              "      <td>4</td>\n",
              "    </tr>\n",
              "    <tr>\n",
              "      <th>119</th>\n",
              "      <td>3.000</td>\n",
              "      <td>2</td>\n",
              "      <td>1</td>\n",
              "      <td>1</td>\n",
              "      <td>5</td>\n",
              "      <td>1.0</td>\n",
              "      <td>1</td>\n",
              "      <td>5</td>\n",
              "      <td>2.0</td>\n",
              "      <td>3</td>\n",
              "    </tr>\n",
              "    <tr>\n",
              "      <th>120</th>\n",
              "      <td>3.900</td>\n",
              "      <td>1</td>\n",
              "      <td>1</td>\n",
              "      <td>2</td>\n",
              "      <td>1</td>\n",
              "      <td>2.0</td>\n",
              "      <td>1</td>\n",
              "      <td>3</td>\n",
              "      <td>1.0</td>\n",
              "      <td>4</td>\n",
              "    </tr>\n",
              "  </tbody>\n",
              "</table>\n",
              "<p>121 rows × 10 columns</p>\n",
              "</div>"
            ],
            "text/plain": [
              "       GPA  Gender  breakfast  coffee  ...  fries  fruit_day  soup  veggies_day\n",
              "0    2.400       2          1       1  ...      2          5   1.0            5\n",
              "1    3.654       1          1       2  ...      1          4   1.0            4\n",
              "2    3.300       1          1       2  ...      1          5   1.0            5\n",
              "3    3.200       1          1       2  ...      2          4   1.0            3\n",
              "4    3.500       1          1       2  ...      1          4   1.0            4\n",
              "..     ...     ...        ...     ...  ...    ...        ...   ...          ...\n",
              "116  3.500       1          1       2  ...      1          5   1.0            5\n",
              "117  3.000       1          1       2  ...      1          4   1.0            5\n",
              "118  3.882       1          1       1  ...      1          4   1.0            4\n",
              "119  3.000       2          1       1  ...      1          5   2.0            3\n",
              "120  3.900       1          1       2  ...      1          3   1.0            4\n",
              "\n",
              "[121 rows x 10 columns]"
            ]
          },
          "metadata": {
            "tags": []
          },
          "execution_count": 114
        }
      ]
    },
    {
      "cell_type": "code",
      "metadata": {
        "id": "57wxz_YstLJf",
        "colab_type": "code",
        "outputId": "1e14759b-3b46-431f-9371-4be6b5dcad8c",
        "colab": {
          "base_uri": "https://localhost:8080/",
          "height": 202
        }
      },
      "source": [
        "bdd.isnull().sum()"
      ],
      "execution_count": 0,
      "outputs": [
        {
          "output_type": "execute_result",
          "data": {
            "text/plain": [
              "GPA            0\n",
              "Gender         0\n",
              "breakfast      0\n",
              "coffee         0\n",
              "eating_out     0\n",
              "exercise       0\n",
              "fries          0\n",
              "fruit_day      0\n",
              "soup           0\n",
              "veggies_day    0\n",
              "dtype: int64"
            ]
          },
          "metadata": {
            "tags": []
          },
          "execution_count": 89
        }
      ]
    },
    {
      "cell_type": "code",
      "metadata": {
        "id": "z9n1mB15svxX",
        "colab_type": "code",
        "colab": {}
      },
      "source": [
        "\n",
        "bdd[\"exercise\"].fillna(bdd[\"exercise\"].median(),inplace=True)\n",
        "bdd[\"soup\"].fillna(bdd[\"soup\"].median(),inplace=True)"
      ],
      "execution_count": 0,
      "outputs": []
    },
    {
      "cell_type": "code",
      "metadata": {
        "id": "RGZ_tL9dVs6V",
        "colab_type": "code",
        "colab": {}
      },
      "source": [
        "\n",
        "bdd.loc[bdd['GPA'] < 3.4, 'GPA'] = 0\n"
      ],
      "execution_count": 0,
      "outputs": []
    },
    {
      "cell_type": "code",
      "metadata": {
        "id": "egmH9cd1pPcG",
        "colab_type": "code",
        "colab": {}
      },
      "source": [
        "bdd.loc[bdd['GPA'] >= 3.4, 'GPA'] = 1"
      ],
      "execution_count": 0,
      "outputs": []
    },
    {
      "cell_type": "code",
      "metadata": {
        "colab_type": "code",
        "id": "c0IPBdBxeC4t",
        "colab": {}
      },
      "source": [
        "bdd.head(30)"
      ],
      "execution_count": 0,
      "outputs": []
    },
    {
      "cell_type": "code",
      "metadata": {
        "id": "6aYM5nbhBdne",
        "colab_type": "code",
        "outputId": "0341574d-6001-414a-ab21-d6316c8ba19c",
        "colab": {
          "base_uri": "https://localhost:8080/",
          "height": 334
        }
      },
      "source": [
        "%matplotlib inline\n",
        "import matplotlib.pyplot as plt\n",
        "print ('succes rate =', bdd.GPA.mean())\n",
        "(bdd.groupby('GPA').size()/bdd.shape[0]).plot(kind=\"bar\",title=\"Label's Balance\")\n"
      ],
      "execution_count": 0,
      "outputs": [
        {
          "output_type": "stream",
          "text": [
            "succes rate = 0.6033057851239669\n"
          ],
          "name": "stdout"
        },
        {
          "output_type": "execute_result",
          "data": {
            "text/plain": [
              "<matplotlib.axes._subplots.AxesSubplot at 0x7f9026704f98>"
            ]
          },
          "metadata": {
            "tags": []
          },
          "execution_count": 117
        },
        {
          "output_type": "display_data",
          "data": {
            "image/png": "[encoded data removed]",
            "text/plain": [
              "<Figure size 432x288 with 1 Axes>"
            ]
          },
          "metadata": {
            "tags": [],
            "needs_background": "light"
          }
        }
      ]
    },
    {
      "cell_type": "code",
      "metadata": {
        "id": "o8MFsg5wBdnh",
        "colab_type": "code",
        "colab": {}
      },
      "source": [
        "# make a function to plot sucess against students attribute\n",
        "def success_rate(column,t):\n",
        "    df=pd.DataFrame()\n",
        "    df['total']=bdd.groupby(column).size()\n",
        "    df['GPA'] = bdd.groupby(column).sum()['GPA']\n",
        "    df['percentage'] = round(df['GPA']/df['total']*100,2)\n",
        "    print(df)\n",
        "\n",
        "    df['GPA'].plot(kind=t)\n",
        "    df['total'].plot(kind=t,alpha=0.5,title=\"Sucess per \"+str(column))\n",
        "    plt.show()"
      ],
      "execution_count": 0,
      "outputs": []
    },
    {
      "cell_type": "code",
      "metadata": {
        "id": "_hjP9ahMBdnk",
        "colab_type": "code",
        "outputId": "8990406e-59c4-4bc9-d959-aa0312936019",
        "colab": {
          "base_uri": "https://localhost:8080/",
          "height": 359
        }
      },
      "source": [
        "success_rate(\"coffee\",\"bar\")"
      ],
      "execution_count": 0,
      "outputs": [
        {
          "output_type": "stream",
          "text": [
            "        total   GPA  percentage\n",
            "coffee                         \n",
            "1          31  19.0       61.29\n",
            "2          90  54.0       60.00\n"
          ],
          "name": "stdout"
        },
        {
          "output_type": "display_data",
          "data": {
            "image/png": "[encoded data removed]",
            "text/plain": [
              "<Figure size 432x288 with 1 Axes>"
            ]
          },
          "metadata": {
            "tags": [],
            "needs_background": "light"
          }
        }
      ]
    },
    {
      "cell_type": "code",
      "metadata": {
        "id": "APlPm1UHBdnm",
        "colab_type": "code",
        "outputId": "bf5b1967-4220-41fa-c7c0-8100a7400274",
        "colab": {
          "base_uri": "https://localhost:8080/",
          "height": 359
        }
      },
      "source": [
        "success_rate(\"breakfast\",\"bar\")"
      ],
      "execution_count": 0,
      "outputs": [
        {
          "output_type": "stream",
          "text": [
            "           total   GPA  percentage\n",
            "breakfast                         \n",
            "1            108  66.0       61.11\n",
            "2             13   7.0       53.85\n"
          ],
          "name": "stdout"
        },
        {
          "output_type": "display_data",
          "data": {
            "image/png": "[encoded data removed]",
            "text/plain": [
              "<Figure size 432x288 with 1 Axes>"
            ]
          },
          "metadata": {
            "tags": [],
            "needs_background": "light"
          }
        }
      ]
    },
    {
      "cell_type": "code",
      "metadata": {
        "id": "k3XZOpmiBdno",
        "colab_type": "code",
        "outputId": "25f9a30f-329b-4881-beb3-5cfd23d87b18",
        "colab": {
          "base_uri": "https://localhost:8080/",
          "height": 410
        }
      },
      "source": [
        "\n",
        "success_rate(\"fruit_day\",\"bar\")"
      ],
      "execution_count": 0,
      "outputs": [
        {
          "output_type": "stream",
          "text": [
            "           total   GPA  percentage\n",
            "fruit_day                         \n",
            "1              1   0.0        0.00\n",
            "2              4   1.0       25.00\n",
            "3             22  16.0       72.73\n",
            "4             32  21.0       65.62\n",
            "5             62  35.0       56.45\n"
          ],
          "name": "stdout"
        },
        {
          "output_type": "display_data",
          "data": {
            "image/png": "[encoded data removed]",
            "text/plain": [
              "<Figure size 432x288 with 1 Axes>"
            ]
          },
          "metadata": {
            "tags": [],
            "needs_background": "light"
          }
        }
      ]
    },
    {
      "cell_type": "code",
      "metadata": {
        "id": "Y31mspj-Bdnr",
        "colab_type": "code",
        "outputId": "53f7e3c9-12f4-4bdd-a6e6-14b992ddb91f",
        "colab": {
          "base_uri": "https://localhost:8080/",
          "height": 368
        }
      },
      "source": [
        "\n",
        "success_rate(\"sports\",\"bar\")"
      ],
      "execution_count": 0,
      "outputs": [
        {
          "output_type": "stream",
          "text": [
            "        total   GPA  percentage\n",
            "sports                         \n",
            "1.0        74  47.0       63.51\n",
            "2.0        45  26.0       57.78\n"
          ],
          "name": "stdout"
        },
        {
          "output_type": "display_data",
          "data": {
            "image/png": "[encoded data removed]",
            "text/plain": [
              "<Figure size 432x288 with 1 Axes>"
            ]
          },
          "metadata": {
            "tags": [],
            "needs_background": "light"
          }
        }
      ]
    },
    {
      "cell_type": "code",
      "metadata": {
        "id": "gb-sDYzaBdnv",
        "colab_type": "code",
        "outputId": "700deb0a-1afa-4e66-fd7e-7f3c2dd241cb",
        "colab": {
          "base_uri": "https://localhost:8080/",
          "height": 410
        }
      },
      "source": [
        "success_rate(\"veggies_day\",\"bar\")\n"
      ],
      "execution_count": 0,
      "outputs": [
        {
          "output_type": "stream",
          "text": [
            "             total   GPA  percentage\n",
            "veggies_day                         \n",
            "1                2   1.0       50.00\n",
            "2               11   6.0       54.55\n",
            "3               20  10.0       50.00\n",
            "4               37  25.0       67.57\n",
            "5               51  31.0       60.78\n"
          ],
          "name": "stdout"
        },
        {
          "output_type": "display_data",
          "data": {
            "image/png": "[encoded data removed]",
            "text/plain": [
              "<Figure size 432x288 with 1 Axes>"
            ]
          },
          "metadata": {
            "tags": [],
            "needs_background": "light"
          }
        }
      ]
    },
    {
      "cell_type": "code",
      "metadata": {
        "id": "Ez4p3M_zx16U",
        "colab_type": "code",
        "outputId": "e7ecd114-c1c9-43db-91fe-4e531315684b",
        "colab": {
          "base_uri": "https://localhost:8080/",
          "height": 410
        }
      },
      "source": [
        "success_rate(\"eating_out\",\"bar\")"
      ],
      "execution_count": 0,
      "outputs": [
        {
          "output_type": "stream",
          "text": [
            "            total   GPA  percentage\n",
            "eating_out                         \n",
            "1              16  11.0       68.75\n",
            "2              58  36.0       62.07\n",
            "3              23  13.0       56.52\n",
            "4              12   8.0       66.67\n",
            "5              12   5.0       41.67\n"
          ],
          "name": "stdout"
        },
        {
          "output_type": "display_data",
          "data": {
            "image/png": "[encoded data removed]",
            "text/plain": [
              "<Figure size 432x288 with 1 Axes>"
            ]
          },
          "metadata": {
            "tags": [],
            "needs_background": "light"
          }
        }
      ]
    },
    {
      "cell_type": "code",
      "metadata": {
        "id": "CD0tqzyxyS1l",
        "colab_type": "code",
        "outputId": "ad1d8441-e7e2-4dfa-97b3-8d2d97124e03",
        "colab": {
          "base_uri": "https://localhost:8080/",
          "height": 368
        }
      },
      "source": [
        "success_rate(\"soup\",\"bar\")"
      ],
      "execution_count": 0,
      "outputs": [
        {
          "output_type": "stream",
          "text": [
            "      total   GPA  percentage\n",
            "soup                         \n",
            "1.0      97  55.0        56.7\n",
            "2.0      24  18.0        75.0\n"
          ],
          "name": "stdout"
        },
        {
          "output_type": "display_data",
          "data": {
            "image/png": "[encoded data removed]",
            "text/plain": [
              "<Figure size 432x288 with 1 Axes>"
            ]
          },
          "metadata": {
            "tags": [],
            "needs_background": "light"
          }
        }
      ]
    },
    {
      "cell_type": "code",
      "metadata": {
        "id": "mb_TSYgOycD5",
        "colab_type": "code",
        "colab": {}
      },
      "source": [
        ""
      ],
      "execution_count": 0,
      "outputs": []
    },
    {
      "cell_type": "code",
      "metadata": {
        "id": "U1zFzNS1Bdn0",
        "colab_type": "code",
        "colab": {}
      },
      "source": [
        "predictors = [\"Gender\", \"coffee\", \"breakfast\", 'fruit_day' ,'veggies_day', 'eating_out', 'soup', 'fries']  "
      ],
      "execution_count": 0,
      "outputs": []
    },
    {
      "cell_type": "markdown",
      "metadata": {
        "id": "K6BZWbmLBdn3",
        "colab_type": "text"
      },
      "source": [
        "We need now to convert text columns in **predictors** to numerical ones"
      ]
    },
    {
      "cell_type": "code",
      "metadata": {
        "id": "1gQgSZlWBdn4",
        "colab_type": "code",
        "outputId": "e33750d2-7855-4632-e651-80bb109f452e",
        "colab": {
          "base_uri": "https://localhost:8080/",
          "height": 106
        }
      },
      "source": [
        "for col in predictors: # Loop through all columns in predictors\n",
        "    if bdd[col].dtype == 'object':  # check if column's type is object (text)\n",
        "        bdd[col] = pd.Categorical(bdd[col]).codes  # convert text to numerical\n",
        "\n",
        "bdd.head(2)"
      ],
      "execution_count": 0,
      "outputs": [
        {
          "output_type": "execute_result",
          "data": {
            "text/html": [
              "<div>\n",
              "<style scoped>\n",
              "    .dataframe tbody tr th:only-of-type {\n",
              "        vertical-align: middle;\n",
              "    }\n",
              "\n",
              "    .dataframe tbody tr th {\n",
              "        vertical-align: top;\n",
              "    }\n",
              "\n",
              "    .dataframe thead th {\n",
              "        text-align: right;\n",
              "    }\n",
              "</style>\n",
              "<table border=\"1\" class=\"dataframe\">\n",
              "  <thead>\n",
              "    <tr style=\"text-align: right;\">\n",
              "      <th></th>\n",
              "      <th>GPA</th>\n",
              "      <th>Gender</th>\n",
              "      <th>breakfast</th>\n",
              "      <th>coffee</th>\n",
              "      <th>eating_out</th>\n",
              "      <th>exercise</th>\n",
              "      <th>fries</th>\n",
              "      <th>fruit_day</th>\n",
              "      <th>soup</th>\n",
              "      <th>veggies_day</th>\n",
              "    </tr>\n",
              "  </thead>\n",
              "  <tbody>\n",
              "    <tr>\n",
              "      <th>0</th>\n",
              "      <td>0.0</td>\n",
              "      <td>2</td>\n",
              "      <td>1</td>\n",
              "      <td>1</td>\n",
              "      <td>3</td>\n",
              "      <td>1.0</td>\n",
              "      <td>2</td>\n",
              "      <td>5</td>\n",
              "      <td>1.0</td>\n",
              "      <td>5</td>\n",
              "    </tr>\n",
              "    <tr>\n",
              "      <th>1</th>\n",
              "      <td>1.0</td>\n",
              "      <td>1</td>\n",
              "      <td>1</td>\n",
              "      <td>2</td>\n",
              "      <td>2</td>\n",
              "      <td>1.0</td>\n",
              "      <td>1</td>\n",
              "      <td>4</td>\n",
              "      <td>1.0</td>\n",
              "      <td>4</td>\n",
              "    </tr>\n",
              "  </tbody>\n",
              "</table>\n",
              "</div>"
            ],
            "text/plain": [
              "   GPA  Gender  breakfast  coffee  ...  fries  fruit_day  soup  veggies_day\n",
              "0  0.0       2          1       1  ...      2          5   1.0            5\n",
              "1  1.0       1          1       2  ...      1          4   1.0            4\n",
              "\n",
              "[2 rows x 10 columns]"
            ]
          },
          "metadata": {
            "tags": []
          },
          "execution_count": 120
        }
      ]
    },
    {
      "cell_type": "code",
      "metadata": {
        "id": "yc6buhDgBdn6",
        "colab_type": "code",
        "outputId": "c3542a09-f8c3-4f70-8d26-675b8542219f",
        "colab": {
          "base_uri": "https://localhost:8080/",
          "height": 50
        }
      },
      "source": [
        "from sklearn.datasets import load_iris\n",
        "from sklearn.linear_model import  LogisticRegression\n",
        "from sklearn.model_selection import train_test_split\n",
        "\n",
        "x = bdd[predictors]\n",
        "y= bdd[\"GPA\"]\n",
        "X_train, X_test, y_train, y_test = train_test_split(x, y, test_size=0.3, random_state=1)\n",
        "print (\"train shape\", X_train.shape, y_train.shape)\n",
        "print (\"test shape\", X_test.shape, y_test.shape)"
      ],
      "execution_count": 0,
      "outputs": [
        {
          "output_type": "stream",
          "text": [
            "train shape (84, 8) (84,)\n",
            "test shape (37, 8) (37,)\n"
          ],
          "name": "stdout"
        }
      ]
    },
    {
      "cell_type": "code",
      "metadata": {
        "id": "MOCDXgO_Bdn-",
        "colab_type": "code",
        "outputId": "53367fbf-fdce-44e1-881f-3ccc6b2edd15",
        "colab": {
          "base_uri": "https://localhost:8080/",
          "height": 50
        }
      },
      "source": [
        "\n",
        "from sklearn.datasets import load_iris\n",
        "from sklearn.linear_model import  LogisticRegression\n",
        "\n",
        "clf = LogisticRegression(random_state=0).fit(X_train, y_train)\n",
        "train_score = clf.score(X_train, y_train)\n",
        "test_score = clf.score(X_test, y_test)\n",
        "\n",
        "print ('train accuracy =', train_score)\n",
        "print ('test accuracy =', test_score)"
      ],
      "execution_count": 0,
      "outputs": [
        {
          "output_type": "stream",
          "text": [
            "train accuracy = 0.5833333333333334\n",
            "test accuracy = 0.6486486486486487\n"
          ],
          "name": "stdout"
        }
      ]
    },
    {
      "cell_type": "markdown",
      "metadata": {
        "id": "HOtxdFgbBdoA",
        "colab_type": "text"
      },
      "source": [
        "Let's print the model's parameters"
      ]
    },
    {
      "cell_type": "code",
      "metadata": {
        "id": "sTsSTe5pBdoB",
        "colab_type": "code",
        "outputId": "747a373a-5338-41db-c5eb-09be8fdecea8",
        "colab": {
          "base_uri": "https://localhost:8080/",
          "height": 185
        }
      },
      "source": [
        "coeff = pd.DataFrame()\n",
        "coeff['Feature'] = X_train.columns\n",
        "coeff['Coefficient Estimate'] = pd.Series(clf.coef_[0])\n",
        "coeff.loc[len(coeff)]=['Intercept',clf.intercept_[0]]\n",
        "print (coeff)"
      ],
      "execution_count": 0,
      "outputs": [
        {
          "output_type": "stream",
          "text": [
            "       Feature  Coefficient Estimate\n",
            "0       Gender             -0.431906\n",
            "1       coffee             -0.065521\n",
            "2    breakfast             -0.179691\n",
            "3    fruit_day             -0.324511\n",
            "4  veggies_day              0.254787\n",
            "5   eating_out             -0.247375\n",
            "6         soup              0.633046\n",
            "7        fries             -0.233044\n",
            "8    Intercept              1.644348\n"
          ],
          "name": "stdout"
        }
      ]
    },
    {
      "cell_type": "markdown",
      "metadata": {
        "id": "20ZkeaeWBdoF",
        "colab_type": "text"
      },
      "source": [
        "We now need to predict class labels for the test set. We will also generate the class probabilities"
      ]
    },
    {
      "cell_type": "code",
      "metadata": {
        "id": "NOT7gz4hBdoG",
        "colab_type": "code",
        "outputId": "94ff58e2-43a6-4af8-e987-786b4fd801d5",
        "colab": {
          "base_uri": "https://localhost:8080/",
          "height": 50
        }
      },
      "source": [
        "# predict class labels for the test set\n",
        "# your code here\n",
        "y_pred = clf.predict(X_test)\n",
        "print (y_pred)"
      ],
      "execution_count": 0,
      "outputs": [
        {
          "output_type": "stream",
          "text": [
            "[0. 0. 0. 1. 1. 1. 1. 1. 1. 1. 1. 1. 1. 1. 1. 1. 0. 1. 1. 1. 1. 1. 1. 0.\n",
            " 1. 1. 1. 1. 1. 1. 0. 1. 1. 1. 1. 0. 1.]\n"
          ],
          "name": "stdout"
        }
      ]
    },
    {
      "cell_type": "code",
      "metadata": {
        "id": "enQS33MvBdoJ",
        "colab_type": "code",
        "outputId": "04116141-1fb5-407f-91ee-437a253b4979",
        "colab": {
          "base_uri": "https://localhost:8080/",
          "height": 195
        }
      },
      "source": [
        "\n",
        "from sklearn.datasets import load_iris\n",
        "from sklearn.linear_model import LogisticRegression\n",
        "print (y_probs)"
      ],
      "execution_count": 0,
      "outputs": [
        {
          "output_type": "error",
          "ename": "NameError",
          "evalue": "ignored",
          "traceback": [
            "\u001b[0;31m---------------------------------------------------------------------------\u001b[0m",
            "\u001b[0;31mNameError\u001b[0m                                 Traceback (most recent call last)",
            "\u001b[0;32m<ipython-input-126-dd933932c017>\u001b[0m in \u001b[0;36m<module>\u001b[0;34m()\u001b[0m\n\u001b[1;32m      2\u001b[0m \u001b[0;32mfrom\u001b[0m \u001b[0msklearn\u001b[0m\u001b[0;34m.\u001b[0m\u001b[0mdatasets\u001b[0m \u001b[0;32mimport\u001b[0m \u001b[0mload_iris\u001b[0m\u001b[0;34m\u001b[0m\u001b[0;34m\u001b[0m\u001b[0m\n\u001b[1;32m      3\u001b[0m \u001b[0;32mfrom\u001b[0m \u001b[0msklearn\u001b[0m\u001b[0;34m.\u001b[0m\u001b[0mlinear_model\u001b[0m \u001b[0;32mimport\u001b[0m \u001b[0mLogisticRegression\u001b[0m\u001b[0;34m\u001b[0m\u001b[0;34m\u001b[0m\u001b[0m\n\u001b[0;32m----> 4\u001b[0;31m \u001b[0mprint\u001b[0m \u001b[0;34m(\u001b[0m\u001b[0my_probs\u001b[0m\u001b[0;34m)\u001b[0m\u001b[0;34m\u001b[0m\u001b[0;34m\u001b[0m\u001b[0m\n\u001b[0m",
            "\u001b[0;31mNameError\u001b[0m: name 'y_probs' is not defined"
          ]
        }
      ]
    },
    {
      "cell_type": "markdown",
      "metadata": {
        "id": "UHm0SJlRBdoK",
        "colab_type": "text"
      },
      "source": [
        "As you can see, the classifier outputs two probabilities for each row. It's predicting a 1 (Success) any time the probability in the second column is greater than 0.5. Let's visualize it all together."
      ]
    },
    {
      "cell_type": "code",
      "metadata": {
        "id": "eOTTP77ZBdoL",
        "colab_type": "code",
        "outputId": "c9ef18a8-e4da-4978-f2f6-753c1673993c",
        "colab": {
          "base_uri": "https://localhost:8080/",
          "height": 229
        }
      },
      "source": [
        "pred = pd.DataFrame({        \n",
        "        \"Success_original\": y_test,\n",
        "        \"Success_predicted\": y_pred,\n",
        "        \"Success_proba\": np.transpose(y_probs)[1]      \n",
        "        })\n",
        "pred[\"Comparison\"]= pred.Success_original ==pred.Success_predicted\n",
        "pred.head(15)"
      ],
      "execution_count": 0,
      "outputs": [
        {
          "output_type": "error",
          "ename": "NameError",
          "evalue": "ignored",
          "traceback": [
            "\u001b[0;31m---------------------------------------------------------------------------\u001b[0m",
            "\u001b[0;31mNameError\u001b[0m                                 Traceback (most recent call last)",
            "\u001b[0;32m<ipython-input-127-f557614a64b1>\u001b[0m in \u001b[0;36m<module>\u001b[0;34m()\u001b[0m\n\u001b[1;32m      2\u001b[0m         \u001b[0;34m\"Success_original\"\u001b[0m\u001b[0;34m:\u001b[0m \u001b[0my_test\u001b[0m\u001b[0;34m,\u001b[0m\u001b[0;34m\u001b[0m\u001b[0;34m\u001b[0m\u001b[0m\n\u001b[1;32m      3\u001b[0m         \u001b[0;34m\"Success_predicted\"\u001b[0m\u001b[0;34m:\u001b[0m \u001b[0my_pred\u001b[0m\u001b[0;34m,\u001b[0m\u001b[0;34m\u001b[0m\u001b[0;34m\u001b[0m\u001b[0m\n\u001b[0;32m----> 4\u001b[0;31m         \u001b[0;34m\"Success_proba\"\u001b[0m\u001b[0;34m:\u001b[0m \u001b[0mnp\u001b[0m\u001b[0;34m.\u001b[0m\u001b[0mtranspose\u001b[0m\u001b[0;34m(\u001b[0m\u001b[0my_probs\u001b[0m\u001b[0;34m)\u001b[0m\u001b[0;34m[\u001b[0m\u001b[0;36m1\u001b[0m\u001b[0;34m]\u001b[0m\u001b[0;34m\u001b[0m\u001b[0;34m\u001b[0m\u001b[0m\n\u001b[0m\u001b[1;32m      5\u001b[0m         })\n\u001b[1;32m      6\u001b[0m \u001b[0mpred\u001b[0m\u001b[0;34m[\u001b[0m\u001b[0;34m\"Comparison\"\u001b[0m\u001b[0;34m]\u001b[0m\u001b[0;34m=\u001b[0m \u001b[0mpred\u001b[0m\u001b[0;34m.\u001b[0m\u001b[0mSuccess_original\u001b[0m \u001b[0;34m==\u001b[0m\u001b[0mpred\u001b[0m\u001b[0;34m.\u001b[0m\u001b[0mSuccess_predicted\u001b[0m\u001b[0;34m\u001b[0m\u001b[0;34m\u001b[0m\u001b[0m\n",
            "\u001b[0;31mNameError\u001b[0m: name 'y_probs' is not defined"
          ]
        }
      ]
    },
    {
      "cell_type": "markdown",
      "metadata": {
        "id": "krVLu3_mBdoN",
        "colab_type": "text"
      },
      "source": [
        "## Confusion matrix"
      ]
    },
    {
      "cell_type": "code",
      "metadata": {
        "id": "ZPVog47wBdoN",
        "colab_type": "code",
        "outputId": "a4bf1de4-b1fc-4938-9b5e-2e9ac2063eb1",
        "colab": {
          "base_uri": "https://localhost:8080/",
          "height": 202
        }
      },
      "source": [
        "from sklearn import metrics\n",
        "print (metrics.confusion_matrix(y_test, y_pred))\n",
        "print (metrics.classification_report(y_test, y_pred))"
      ],
      "execution_count": 0,
      "outputs": [
        {
          "output_type": "stream",
          "text": [
            "[[ 2  8]\n",
            " [ 5 22]]\n",
            "              precision    recall  f1-score   support\n",
            "\n",
            "         0.0       0.29      0.20      0.24        10\n",
            "         1.0       0.73      0.81      0.77        27\n",
            "\n",
            "    accuracy                           0.65        37\n",
            "   macro avg       0.51      0.51      0.50        37\n",
            "weighted avg       0.61      0.65      0.63        37\n",
            "\n"
          ],
          "name": "stdout"
        }
      ]
    },
    {
      "cell_type": "markdown",
      "metadata": {
        "id": "9LJ0gyMYBdoQ",
        "colab_type": "text"
      },
      "source": [
        "As you can see, we can have the classification report for each class"
      ]
    },
    {
      "cell_type": "markdown",
      "metadata": {
        "id": "WrqKJJrkBdoQ",
        "colab_type": "text"
      },
      "source": [
        "## K-Fold Cross Validation"
      ]
    },
    {
      "cell_type": "code",
      "metadata": {
        "id": "oouwKC8fBdoR",
        "colab_type": "code",
        "outputId": "bcf4dacc-3d98-4f26-8627-a7102f269b80",
        "colab": {
          "base_uri": "https://localhost:8080/",
          "height": 34
        }
      },
      "source": [
        "from sklearn import datasets, linear_model\n",
        "from sklearn.model_selection import cross_val_score\n",
        "model = LogisticRegression()\n",
        "model = model.fit (X_train,y_train)\n",
        "print (model.score(X_test,y_test))\n"
      ],
      "execution_count": 0,
      "outputs": [
        {
          "output_type": "stream",
          "text": [
            "0.6486486486486487\n"
          ],
          "name": "stdout"
        }
      ]
    },
    {
      "cell_type": "code",
      "metadata": {
        "id": "IT6Qmk2tuSXg",
        "colab_type": "code",
        "outputId": "e4c8346e-eb92-4444-d96a-98ed3edfdb86",
        "colab": {
          "base_uri": "https://localhost:8080/",
          "height": 229
        }
      },
      "source": [
        "cross_val = cross_val_score(LogisticRegression(), X, y, scoring='accuracy', cv=10)\n",
        " \n",
        "print (cross_val)\n",
        " \n",
        "print (cross_val.mean())"
      ],
      "execution_count": 0,
      "outputs": [
        {
          "output_type": "error",
          "ename": "NameError",
          "evalue": "ignored",
          "traceback": [
            "\u001b[0;31m---------------------------------------------------------------------------\u001b[0m",
            "\u001b[0;31mNameError\u001b[0m                                 Traceback (most recent call last)",
            "\u001b[0;32m<ipython-input-131-75aedf5a5133>\u001b[0m in \u001b[0;36m<module>\u001b[0;34m()\u001b[0m\n\u001b[0;32m----> 1\u001b[0;31m \u001b[0mcross_val\u001b[0m \u001b[0;34m=\u001b[0m \u001b[0mcross_val_score\u001b[0m\u001b[0;34m(\u001b[0m\u001b[0mLogisticRegression\u001b[0m\u001b[0;34m(\u001b[0m\u001b[0;34m)\u001b[0m\u001b[0;34m,\u001b[0m \u001b[0mX\u001b[0m\u001b[0;34m,\u001b[0m \u001b[0my\u001b[0m\u001b[0;34m,\u001b[0m \u001b[0mscoring\u001b[0m\u001b[0;34m=\u001b[0m\u001b[0;34m'accuracy'\u001b[0m\u001b[0;34m,\u001b[0m \u001b[0mcv\u001b[0m\u001b[0;34m=\u001b[0m\u001b[0;36m10\u001b[0m\u001b[0;34m)\u001b[0m\u001b[0;34m\u001b[0m\u001b[0;34m\u001b[0m\u001b[0m\n\u001b[0m\u001b[1;32m      2\u001b[0m \u001b[0;34m\u001b[0m\u001b[0m\n\u001b[1;32m      3\u001b[0m \u001b[0mprint\u001b[0m \u001b[0;34m(\u001b[0m\u001b[0mcross_val\u001b[0m\u001b[0;34m)\u001b[0m\u001b[0;34m\u001b[0m\u001b[0;34m\u001b[0m\u001b[0m\n\u001b[1;32m      4\u001b[0m \u001b[0;34m\u001b[0m\u001b[0m\n\u001b[1;32m      5\u001b[0m \u001b[0mprint\u001b[0m \u001b[0;34m(\u001b[0m\u001b[0mcross_val\u001b[0m\u001b[0;34m.\u001b[0m\u001b[0mmean\u001b[0m\u001b[0;34m(\u001b[0m\u001b[0;34m)\u001b[0m\u001b[0;34m)\u001b[0m\u001b[0;34m\u001b[0m\u001b[0;34m\u001b[0m\u001b[0m\n",
            "\u001b[0;31mNameError\u001b[0m: name 'X' is not defined"
          ]
        }
      ]
    },
    {
      "cell_type": "markdown",
      "metadata": {
        "collapsed": true,
        "id": "tIls7foXBdoT",
        "colab_type": "text"
      },
      "source": [
        "\n",
        "When you are improving a model, you want to make sur that you are really doing it and not just being lucky. This is why it's good to work with cross validation instead of one train/test split."
      ]
    },
    {
      "cell_type": "code",
      "metadata": {
        "id": "Dvf-u5EgBdoT",
        "colab_type": "code",
        "outputId": "d5bc892a-5baa-4ec9-ae5a-6459e6c89af5",
        "colab": {
          "base_uri": "https://localhost:8080/",
          "height": 77
        }
      },
      "source": [
        "predictors = [\"Gender\", \"coffee\", \"breakfast\", 'fruit_day' ,'veggies_day', 'eating_out', 'soup', 'fries']  \n",
        "my = [2,2,2, 1, 1, 5, 1, 1]\n",
        "df = pd.DataFrame(np.array(my).reshape(1,-1), columns=predictors)\n",
        "df.head(5)"
      ],
      "execution_count": 0,
      "outputs": [
        {
          "output_type": "execute_result",
          "data": {
            "text/html": [
              "<div>\n",
              "<style scoped>\n",
              "    .dataframe tbody tr th:only-of-type {\n",
              "        vertical-align: middle;\n",
              "    }\n",
              "\n",
              "    .dataframe tbody tr th {\n",
              "        vertical-align: top;\n",
              "    }\n",
              "\n",
              "    .dataframe thead th {\n",
              "        text-align: right;\n",
              "    }\n",
              "</style>\n",
              "<table border=\"1\" class=\"dataframe\">\n",
              "  <thead>\n",
              "    <tr style=\"text-align: right;\">\n",
              "      <th></th>\n",
              "      <th>Gender</th>\n",
              "      <th>coffee</th>\n",
              "      <th>breakfast</th>\n",
              "      <th>fruit_day</th>\n",
              "      <th>veggies_day</th>\n",
              "      <th>eating_out</th>\n",
              "      <th>soup</th>\n",
              "      <th>fries</th>\n",
              "    </tr>\n",
              "  </thead>\n",
              "  <tbody>\n",
              "    <tr>\n",
              "      <th>0</th>\n",
              "      <td>2</td>\n",
              "      <td>2</td>\n",
              "      <td>2</td>\n",
              "      <td>1</td>\n",
              "      <td>1</td>\n",
              "      <td>5</td>\n",
              "      <td>1</td>\n",
              "      <td>1</td>\n",
              "    </tr>\n",
              "  </tbody>\n",
              "</table>\n",
              "</div>"
            ],
            "text/plain": [
              "   Gender  coffee  breakfast  fruit_day  veggies_day  eating_out  soup  fries\n",
              "0       2       2          2          1            1           5     1      1"
            ]
          },
          "metadata": {
            "tags": []
          },
          "execution_count": 133
        }
      ]
    },
    {
      "cell_type": "code",
      "metadata": {
        "id": "69KpS61hQnZo",
        "colab_type": "code",
        "outputId": "1b429c33-cfcd-4e0d-befe-0c81d415ffa3",
        "colab": {
          "base_uri": "https://localhost:8080/",
          "height": 571
        }
      },
      "source": [
        "!pip install flask-ngrok\n",
        "!pip install -U flask-cors\n",
        "\n",
        "from flask import Flask\n",
        "from flask import request\n",
        "from flask_cors import CORS\n",
        "from flask_ngrok import run_with_ngrok\n",
        "\n",
        "app = Flask(__name__)\n",
        "CORS(app)\n",
        "run_with_ngrok(app)  # Start ngrok when app is run\n",
        "\n",
        "# for / root, return Hello Word\n",
        "@app.route(\"/result/<int:Gender>/<int:coffee>/<int:breakfast>/<int:fruit_day>/<int:veggies_day>/<int:eating_out>/<int:soup>/<int:fries>\")\n",
        "def root(Gender, coffee, breakfast, fruit_day ,veggies_day, eating_out, soup, fries):\n",
        "    mymy = [Gender, coffee, breakfast, fruit_day, veggies_day, eating_out, soup, fries]\n",
        "    df = pd.DataFrame(np.array(mymy).reshape(1,-1), columns=predictors)\n",
        "    clf=LogisticRegression().fit(X_train,y_train)\n",
        "    return f\"{ clf.predict(df)[0]}\"\n",
        "\n",
        "app.run()"
      ],
      "execution_count": 0,
      "outputs": [
        {
          "output_type": "stream",
          "text": [
            "Requirement already satisfied: flask-ngrok in /usr/local/lib/python3.6/dist-packages (0.0.25)\n",
            "Requirement already satisfied: Flask>=0.8 in /usr/local/lib/python3.6/dist-packages (from flask-ngrok) (1.1.2)\n",
            "Requirement already satisfied: requests in /usr/local/lib/python3.6/dist-packages (from flask-ngrok) (2.21.0)\n",
            "Requirement already satisfied: itsdangerous>=0.24 in /usr/local/lib/python3.6/dist-packages (from Flask>=0.8->flask-ngrok) (1.1.0)\n",
            "Requirement already satisfied: Werkzeug>=0.15 in /usr/local/lib/python3.6/dist-packages (from Flask>=0.8->flask-ngrok) (1.0.1)\n",
            "Requirement already satisfied: click>=5.1 in /usr/local/lib/python3.6/dist-packages (from Flask>=0.8->flask-ngrok) (7.1.1)\n",
            "Requirement already satisfied: Jinja2>=2.10.1 in /usr/local/lib/python3.6/dist-packages (from Flask>=0.8->flask-ngrok) (2.11.2)\n",
            "Requirement already satisfied: urllib3<1.25,>=1.21.1 in /usr/local/lib/python3.6/dist-packages (from requests->flask-ngrok) (1.24.3)\n",
            "Requirement already satisfied: idna<2.9,>=2.5 in /usr/local/lib/python3.6/dist-packages (from requests->flask-ngrok) (2.8)\n",
            "Requirement already satisfied: certifi>=2017.4.17 in /usr/local/lib/python3.6/dist-packages (from requests->flask-ngrok) (2020.4.5.1)\n",
            "Requirement already satisfied: chardet<3.1.0,>=3.0.2 in /usr/local/lib/python3.6/dist-packages (from requests->flask-ngrok) (3.0.4)\n",
            "Requirement already satisfied: MarkupSafe>=0.23 in /usr/local/lib/python3.6/dist-packages (from Jinja2>=2.10.1->Flask>=0.8->flask-ngrok) (1.1.1)\n",
            "Requirement already up-to-date: flask-cors in /usr/local/lib/python3.6/dist-packages (3.0.8)\n",
            "Requirement already satisfied, skipping upgrade: Six in /usr/local/lib/python3.6/dist-packages (from flask-cors) (1.12.0)\n",
            "Requirement already satisfied, skipping upgrade: Flask>=0.9 in /usr/local/lib/python3.6/dist-packages (from flask-cors) (1.1.2)\n",
            "Requirement already satisfied, skipping upgrade: itsdangerous>=0.24 in /usr/local/lib/python3.6/dist-packages (from Flask>=0.9->flask-cors) (1.1.0)\n",
            "Requirement already satisfied, skipping upgrade: Werkzeug>=0.15 in /usr/local/lib/python3.6/dist-packages (from Flask>=0.9->flask-cors) (1.0.1)\n",
            "Requirement already satisfied, skipping upgrade: click>=5.1 in /usr/local/lib/python3.6/dist-packages (from Flask>=0.9->flask-cors) (7.1.1)\n",
            "Requirement already satisfied, skipping upgrade: Jinja2>=2.10.1 in /usr/local/lib/python3.6/dist-packages (from Flask>=0.9->flask-cors) (2.11.2)\n",
            "Requirement already satisfied, skipping upgrade: MarkupSafe>=0.23 in /usr/local/lib/python3.6/dist-packages (from Jinja2>=2.10.1->Flask>=0.9->flask-cors) (1.1.1)\n",
            " * Serving Flask app \"__main__\" (lazy loading)\n",
            " * Environment: production\n",
            "\u001b[31m   WARNING: This is a development server. Do not use it in a production deployment.\u001b[0m\n",
            "\u001b[2m   Use a production WSGI server instead.\u001b[0m\n",
            " * Debug mode: off\n"
          ],
          "name": "stdout"
        },
        {
          "output_type": "stream",
          "text": [
            " * Running on http://127.0.0.1:5000/ (Press CTRL+C to quit)\n"
          ],
          "name": "stderr"
        },
        {
          "output_type": "stream",
          "text": [
            " * Running on http://8008e9a8.ngrok.io\n",
            " * Traffic stats available on http://127.0.0.1:4040\n"
          ],
          "name": "stdout"
        },
        {
          "output_type": "stream",
          "text": [
            "127.0.0.1 - - [23/Apr/2020 16:53:13] \"\u001b[37mGET /result/1/2/0/3/3/0/1/5 HTTP/1.1\u001b[0m\" 200 -\n",
            "127.0.0.1 - - [23/Apr/2020 16:53:32] \"\u001b[37mGET /result/1/1/0/1/3/5/1/5 HTTP/1.1\u001b[0m\" 200 -\n",
            "127.0.0.1 - - [23/Apr/2020 16:55:35] \"\u001b[37mGET /result/1/2/0/3/3/0/2/1 HTTP/1.1\u001b[0m\" 200 -\n",
            "127.0.0.1 - - [23/Apr/2020 16:55:55] \"\u001b[37mGET /result/1/1/0/3/1/5/2/3 HTTP/1.1\u001b[0m\" 200 -\n",
            "127.0.0.1 - - [23/Apr/2020 17:42:57] \"\u001b[33mGET /result/1/1/0///// HTTP/1.1\u001b[0m\" 404 -\n"
          ],
          "name": "stderr"
        }
      ]
    },
    {
      "cell_type": "code",
      "metadata": {
        "id": "6tJlrj3Dtulc",
        "colab_type": "code",
        "outputId": "edebec99-2f61-4593-db21-4b544f72894b",
        "colab": {
          "base_uri": "https://localhost:8080/",
          "height": 195
        }
      },
      "source": [
        "clf=LogisticRegression().fit(X_train,y_train)\n",
        "print(clf.predict(df))\n",
        "print(clf.predict_proba(df))"
      ],
      "execution_count": 0,
      "outputs": [
        {
          "output_type": "error",
          "ename": "NameError",
          "evalue": "ignored",
          "traceback": [
            "\u001b[0;31m---------------------------------------------------------------------------\u001b[0m",
            "\u001b[0;31mNameError\u001b[0m                                 Traceback (most recent call last)",
            "\u001b[0;32m<ipython-input-54-36488105c587>\u001b[0m in \u001b[0;36m<module>\u001b[0;34m()\u001b[0m\n\u001b[1;32m      1\u001b[0m \u001b[0mclf\u001b[0m\u001b[0;34m=\u001b[0m\u001b[0mLogisticRegression\u001b[0m\u001b[0;34m(\u001b[0m\u001b[0;34m)\u001b[0m\u001b[0;34m.\u001b[0m\u001b[0mfit\u001b[0m\u001b[0;34m(\u001b[0m\u001b[0mX_train\u001b[0m\u001b[0;34m,\u001b[0m\u001b[0my_train\u001b[0m\u001b[0;34m)\u001b[0m\u001b[0;34m\u001b[0m\u001b[0;34m\u001b[0m\u001b[0m\n\u001b[0;32m----> 2\u001b[0;31m \u001b[0mprint\u001b[0m\u001b[0;34m(\u001b[0m\u001b[0mclf\u001b[0m\u001b[0;34m.\u001b[0m\u001b[0mpredict\u001b[0m\u001b[0;34m(\u001b[0m\u001b[0mdf\u001b[0m\u001b[0;34m)\u001b[0m\u001b[0;34m)\u001b[0m\u001b[0;34m\u001b[0m\u001b[0;34m\u001b[0m\u001b[0m\n\u001b[0m\u001b[1;32m      3\u001b[0m \u001b[0mprint\u001b[0m\u001b[0;34m(\u001b[0m\u001b[0mclf\u001b[0m\u001b[0;34m.\u001b[0m\u001b[0mpredict_proba\u001b[0m\u001b[0;34m(\u001b[0m\u001b[0mdf\u001b[0m\u001b[0;34m)\u001b[0m\u001b[0;34m)\u001b[0m\u001b[0;34m\u001b[0m\u001b[0;34m\u001b[0m\u001b[0m\n",
            "\u001b[0;31mNameError\u001b[0m: name 'df' is not defined"
          ]
        }
      ]
    },
    {
      "cell_type": "code",
      "metadata": {
        "id": "82QEIDEytow4",
        "colab_type": "code",
        "outputId": "e4a5e533-34ab-41a2-f867-6c9d66990b32",
        "colab": {
          "base_uri": "https://localhost:8080/",
          "height": 212
        }
      },
      "source": [
        "    mymy = [1,1,1, 1, 2, 3, 3, 1]\n",
        "    df = pd.DataFrame(np.array(noha).reshape(1,-1), columns=predictors)\n",
        "    clf=LogisticRegression().fit(X_train,y_train)\n",
        "   "
      ],
      "execution_count": 0,
      "outputs": [
        {
          "output_type": "error",
          "ename": "NameError",
          "evalue": "ignored",
          "traceback": [
            "\u001b[0;31m---------------------------------------------------------------------------\u001b[0m",
            "\u001b[0;31mNameError\u001b[0m                                 Traceback (most recent call last)",
            "\u001b[0;32m<ipython-input-58-c00b8b853fe2>\u001b[0m in \u001b[0;36m<module>\u001b[0;34m()\u001b[0m\n\u001b[1;32m      1\u001b[0m \u001b[0mmymy\u001b[0m \u001b[0;34m=\u001b[0m \u001b[0;34m[\u001b[0m\u001b[0;36m1\u001b[0m\u001b[0;34m,\u001b[0m\u001b[0;36m1\u001b[0m\u001b[0;34m,\u001b[0m\u001b[0;36m1\u001b[0m\u001b[0;34m,\u001b[0m \u001b[0;36m1\u001b[0m\u001b[0;34m,\u001b[0m \u001b[0;36m2\u001b[0m\u001b[0;34m,\u001b[0m \u001b[0;36m3\u001b[0m\u001b[0;34m,\u001b[0m \u001b[0;36m3\u001b[0m\u001b[0;34m,\u001b[0m \u001b[0;36m1\u001b[0m\u001b[0;34m]\u001b[0m\u001b[0;34m\u001b[0m\u001b[0;34m\u001b[0m\u001b[0m\n\u001b[0;32m----> 2\u001b[0;31m \u001b[0mdf\u001b[0m \u001b[0;34m=\u001b[0m \u001b[0mpd\u001b[0m\u001b[0;34m.\u001b[0m\u001b[0mDataFrame\u001b[0m\u001b[0;34m(\u001b[0m\u001b[0mnp\u001b[0m\u001b[0;34m.\u001b[0m\u001b[0marray\u001b[0m\u001b[0;34m(\u001b[0m\u001b[0mnoha\u001b[0m\u001b[0;34m)\u001b[0m\u001b[0;34m.\u001b[0m\u001b[0mreshape\u001b[0m\u001b[0;34m(\u001b[0m\u001b[0;36m1\u001b[0m\u001b[0;34m,\u001b[0m\u001b[0;34m-\u001b[0m\u001b[0;36m1\u001b[0m\u001b[0;34m)\u001b[0m\u001b[0;34m,\u001b[0m \u001b[0mcolumns\u001b[0m\u001b[0;34m=\u001b[0m\u001b[0mpredictors\u001b[0m\u001b[0;34m)\u001b[0m\u001b[0;34m\u001b[0m\u001b[0;34m\u001b[0m\u001b[0m\n\u001b[0m\u001b[1;32m      3\u001b[0m \u001b[0mclf\u001b[0m\u001b[0;34m=\u001b[0m\u001b[0mLogisticRegression\u001b[0m\u001b[0;34m(\u001b[0m\u001b[0;34m)\u001b[0m\u001b[0;34m.\u001b[0m\u001b[0mfit\u001b[0m\u001b[0;34m(\u001b[0m\u001b[0mX_train\u001b[0m\u001b[0;34m,\u001b[0m\u001b[0my_train\u001b[0m\u001b[0;34m)\u001b[0m\u001b[0;34m\u001b[0m\u001b[0;34m\u001b[0m\u001b[0m\n\u001b[1;32m      4\u001b[0m \u001b[0;34m\u001b[0m\u001b[0m\n",
            "\u001b[0;31mNameError\u001b[0m: name 'noha' is not defined"
          ]
        }
      ]
    },
    {
      "cell_type": "code",
      "metadata": {
        "id": "nrsWA9r8xXXx",
        "colab_type": "code",
        "colab": {}
      },
      "source": [
        ""
      ],
      "execution_count": 0,
      "outputs": []
    }
  ]
}